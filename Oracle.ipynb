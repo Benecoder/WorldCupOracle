{
 "cells": [
  {
   "cell_type": "code",
   "execution_count": 3,
   "metadata": {},
   "outputs": [],
   "source": [
    "import numpy as np\n",
    "import urllib3\n",
    "import certifi\n",
    "import matplotlib.pyplot as plt\n"
   ]
  },
  {
   "cell_type": "code",
   "execution_count": 45,
   "metadata": {},
   "outputs": [],
   "source": [
    "def scrape_the_donald(TeamA,TeamB):\n",
    "    URL = 'https://mobile.twitter.com/realDonaldTrump'\n",
    "    http = urllib3.PoolManager(cert_reqs='CERT_REQUIRED',ca_certs=certifi.where())\n",
    "    r = http.request('GET',URL)\n",
    "    assert r.status == 200\n",
    "    \n",
    "    content_string = str(r.data)\n",
    "    content = content_string.split(' ')\n",
    "    \n",
    "    initkey = 'class=\"tweet-container'\n",
    "    \n",
    "    indexes = []\n",
    "    i  = 0\n",
    "    found = False\n",
    "    while not found:\n",
    "        Word = content[i]\n",
    "        if len(Word)>=len(initkey):\n",
    "            if Word[:len(initkey)] == initkey:\n",
    "                indexes.append(i)\n",
    "                if len(indexes) == 2:\n",
    "                    found = True\n",
    "        i += 1\n",
    "        \n",
    "    content = content[indexes[0]:indexes[1]]\n",
    "    \n",
    "    found = False\n",
    "    i = 0\n",
    "    indexes = []\n",
    "    initkey = 'class=\"dir-ltr\"'\n",
    "    while not found:\n",
    "        Word = content[i]\n",
    "        if len(Word) <= len(initkey):\n",
    "            if Word[:len(initkey)] == initkey:\n",
    "                indexes.append(i+2)\n",
    "                found = True\n",
    "        i += 1\n",
    "                \n",
    "    counter = 0\n",
    "    while counter <= 280:\n",
    "        counter += len(content[i])\n",
    "        i += 1\n",
    "    indexes.append(i)    \n",
    "    \n",
    "    Tweet = ' '.join(content[indexes[0]:indexes[1]])\n",
    "    Tweetbytes = [bytes(Letter,'utf-8') for Letter in Tweet]\n",
    "    Array = np.array([int.from_bytes(byte,byteorder='big') for byte in Tweetbytes])    \n",
    "    \n",
    "    X = Array[:len(Array)//2]\n",
    "    Y = Array[len(X):]\n",
    "    \n",
    "    #Hash\n",
    "    AModTweet = np.mod(Array,np.pi)\n",
    "    TeamAbytes = [bytes(letter,'utf-8') for letter in TeamA]\n",
    "    TeamAInput = sum([int.from_bytes(byte,byteorder='big') for byte in TeamAbytes])\n",
    "    A = int(np.sum(np.exp(AModTweet)))+TeamAInput\n",
    "    \n",
    "    BModTweet = np.mod(Array,np.e)\n",
    "    TeamBbytes = [bytes(letter,'utf-8') for letter in TeamB]\n",
    "    TeamBInput = sum([int.from_bytes(byte,byteorder='big') for byte in TeamBbytes])\n",
    "    B = int(np.sum(np.exp(BModTweet)))+TeamBInput\n",
    "    \n",
    "    np.random.seed(A)\n",
    "    AGoals = np.abs(np.random.normal(1.5,2)).astype(int)\n",
    "    \n",
    "    np.random.seed(B)\n",
    "    BGoals = np.abs(np.random.normal(1.5,2)).astype(int)\n",
    "    \n",
    "    return AGoals,BGoals"
   ]
  },
  {
   "cell_type": "code",
   "execution_count": 47,
   "metadata": {},
   "outputs": [
    {
     "name": "stdout",
     "output_type": "stream",
     "text": [
      "Russland     vs.  Saudi Arabien : 1 : 0\n",
      "Ägypten      vs.  Uruguay       : 1 : 0\n",
      "Marokko      vs.  Iran          : 3 : 3\n",
      "Portugal     vs.  Spanien       : 0 : 0\n",
      "Frankreich   vs.  Australien    : 0 : 2\n",
      "Argentinien  vs.  Island        : 1 : 0\n",
      "Peru         vs.  Dänemark      : 1 : 0\n",
      "Kroatien     vs.  Nigeria       : 2 : 1\n"
     ]
    }
   ],
   "source": [
    "matchups = [['Russland   ','Saudi Arabien'],\n",
    "            ['Ägypten    ','Uruguay      '],\n",
    "            ['Marokko    ','Iran         '],\n",
    "            ['Portugal   ','Spanien      '],\n",
    "            ['Frankreich ','Australien   '],\n",
    "            ['Argentinien','Island       '],\n",
    "            ['Peru       ','Dänemark     '],\n",
    "            ['Kroatien   ','Nigeria      ']]\n",
    "\n",
    "\n",
    "for match in matchups:\n",
    "    AGoals,BGoals = scrape_the_donald(match[0],match[1])\n",
    "    print(match[0],' vs. ',match[1],':',AGoals,':',BGoals)\n",
    "\n"
   ]
  },
  {
   "cell_type": "code",
   "execution_count": null,
   "metadata": {},
   "outputs": [],
   "source": []
  }
 ],
 "metadata": {
  "kernelspec": {
   "display_name": "Python 3",
   "language": "python",
   "name": "python3"
  },
  "language_info": {
   "codemirror_mode": {
    "name": "ipython",
    "version": 3
   },
   "file_extension": ".py",
   "mimetype": "text/x-python",
   "name": "python",
   "nbconvert_exporter": "python",
   "pygments_lexer": "ipython3",
   "version": "3.6.4"
  }
 },
 "nbformat": 4,
 "nbformat_minor": 2
}
